{
  "nbformat": 4,
  "nbformat_minor": 0,
  "metadata": {
    "colab": {
      "name": "IDL_Assignment_8.ipynb",
      "provenance": []
    },
    "kernelspec": {
      "name": "python3",
      "display_name": "Python 3"
    }
  },
  "cells": [
    {
      "cell_type": "markdown",
      "metadata": {
        "id": "rmocEiHfBj2D",
        "colab_type": "text"
      },
      "source": [
        "Team Members\n",
        "\n",
        "*   Libin Kutty - Group 2\n",
        "*   Ritu Gahir - Group 3\n",
        "*   Viju Sudhi - Group 10"
      ]
    },
    {
      "cell_type": "code",
      "metadata": {
        "id": "QU-3k15HBH65",
        "colab_type": "code",
        "colab": {}
      },
      "source": [
        "%tensorflow_version 2.x"
      ],
      "execution_count": 1,
      "outputs": []
    },
    {
      "cell_type": "code",
      "metadata": {
        "id": "3FGXybuUBpwj",
        "colab_type": "code",
        "colab": {}
      },
      "source": [
        "import tensorflow as tf\n",
        "import numpy as np\n",
        "import matplotlib.pyplot as plt"
      ],
      "execution_count": 2,
      "outputs": []
    },
    {
      "cell_type": "code",
      "metadata": {
        "id": "5EmXn7wwIF6H",
        "colab_type": "code",
        "colab": {}
      },
      "source": [
        "class Encoder(tf.keras.layers.Layer):\n",
        "  def __init__(self, intermediate_dim, convolution_layer=False):\n",
        "    super(Encoder, self).__init__()\n",
        "    self.conv = convolution_layer\n",
        "    if convolution_layer:\n",
        "      \n",
        "      self.input_layer = tf.keras.layers.InputLayer(input_shape=(28, 28, 1))\n",
        "\n",
        "      self.hidden_layer1 = tf.keras.layers.Conv2D(filters=32, \n",
        "                                    kernel_size=3, \n",
        "                                    #strides=(2, 2), \n",
        "                                    activation='relu')\n",
        "\n",
        "      self.hidden_layer2 = tf.keras.layers.Conv2D(filters=64, \n",
        "                                    kernel_size=3, \n",
        "                                    #strides=(2, 2), \n",
        "                                    activation='relu')\n",
        "\n",
        "      self.flatten_layer = tf.keras.layers.Flatten()\n",
        "        \n",
        "      self.output_layer = tf.keras.layers.Dense(units=intermediate_dim + intermediate_dim)\n",
        "\n",
        "    else:\n",
        "      \n",
        "      self.hidden_layer1 = tf.keras.layers.Dense(\n",
        "        units=256,\n",
        "        activation=tf.nn.leaky_relu,\n",
        "        kernel_initializer='he_uniform'\n",
        "      )\n",
        "\n",
        "      self.hidden_layer2 = tf.keras.layers.Dense(\n",
        "        units=128,\n",
        "        activation=tf.nn.leaky_relu,\n",
        "        kernel_initializer='he_uniform'\n",
        "      )\n",
        "      self.output_layer = tf.keras.layers.Dense(\n",
        "        units=64, #intermediate_dim - 32,\n",
        "        activation=tf.nn.leaky_relu,\n",
        "        kernel_initializer='he_uniform'\n",
        "      )\n",
        "    \n",
        "  def call(self, input_features):\n",
        "    if self.conv:\n",
        "      input_features = self.input_layer(input_features)\n",
        "    hidden_op = self.hidden_layer1(input_features)\n",
        "    activation = self.hidden_layer2(hidden_op)\n",
        "    if self.conv:\n",
        "      activation = self.flatten_layer(activation)\n",
        "    return self.output_layer(activation)"
      ],
      "execution_count": 3,
      "outputs": []
    },
    {
      "cell_type": "code",
      "metadata": {
        "id": "hAO6PmA3ycdJ",
        "colab_type": "code",
        "colab": {}
      },
      "source": [
        "class Decoder(tf.keras.layers.Layer):\n",
        "  def __init__(self, intermediate_dim, original_dim, convolution_layer=False):\n",
        "    super(Decoder, self).__init__()\n",
        "    self.conv = convolution_layer\n",
        "    if convolution_layer:\n",
        "\n",
        "      self.input_layer = tf.keras.layers.InputLayer(input_shape=(intermediate_dim,))\n",
        "\n",
        "      self.hidden_layer1 = tf.keras.layers.Dense(units=28*28*1,\n",
        "                                                 activation=tf.nn.relu)\n",
        "\n",
        "      self.input_reshape = tf.keras.layers.Reshape(target_shape=(28, 28, 1))\n",
        "\n",
        "      self.hidden_layer2 = tf.keras.layers.Conv2DTranspose(\n",
        "              filters=64,\n",
        "              kernel_size=3,\n",
        "#              strides=(2, 2),\n",
        "              padding=\"SAME\",\n",
        "              activation='relu')\n",
        "\n",
        "      self.hidden_layer3 = tf.keras.layers.Conv2DTranspose(\n",
        "              filters=32,\n",
        "              kernel_size=3,\n",
        "#              strides=(2, 2),\n",
        "              padding=\"SAME\",\n",
        "              activation='relu')\n",
        "\n",
        "      self.output_layer = tf.keras.layers.Conv2DTranspose(\n",
        "              filters=1, kernel_size=3, \n",
        "#              strides=(1, 1),\n",
        "               padding=\"SAME\")\n",
        "\n",
        "    else:\n",
        "\n",
        "      self.hidden_layer1 = tf.keras.layers.Dense(\n",
        "        units=64,\n",
        "        activation=tf.nn.leaky_relu,\n",
        "        kernel_initializer='he_uniform'\n",
        "      )\n",
        "\n",
        "      self.hidden_layer2 = tf.keras.layers.Dense(\n",
        "        units=128,\n",
        "        activation=tf.nn.leaky_relu,\n",
        "        kernel_initializer='he_uniform'\n",
        "      )\n",
        "\n",
        "      self.hidden_layer3 = tf.keras.layers.Dense(\n",
        "        units=256,\n",
        "        activation=tf.nn.leaky_relu,\n",
        "        kernel_initializer='he_uniform'\n",
        "      )\n",
        "\n",
        "      self.output_layer = tf.keras.layers.Dense(\n",
        "        units=original_dim,\n",
        "        activation=tf.nn.sigmoid\n",
        "      )\n",
        "  \n",
        "  def call(self, code):\n",
        "    #if self.conv:\n",
        "    #  code = self.input_layer(code)\n",
        "    h1_op = self.hidden_layer1(code)\n",
        "    if self.conv:\n",
        "      h1_op = self.input_reshape(h1_op)\n",
        "    h2_op = self.hidden_layer2(h1_op)\n",
        "    activation = self.hidden_layer3(h2_op)\n",
        "    return self.output_layer(activation)"
      ],
      "execution_count": 4,
      "outputs": []
    },
    {
      "cell_type": "code",
      "metadata": {
        "id": "i2fWfM4yyghR",
        "colab_type": "code",
        "colab": {}
      },
      "source": [
        "class Autoencoder(tf.keras.Model):\n",
        "  def __init__(self, intermediate_dim, original_dim, convolution_layer = False):\n",
        "    super(Autoencoder, self).__init__()\n",
        "    self.encoder = Encoder(intermediate_dim=intermediate_dim,convolution_layer=convolution_layer)\n",
        "    self.decoder = Decoder(intermediate_dim=intermediate_dim, original_dim=original_dim, convolution_layer=convolution_layer)\n",
        "\n",
        "  def call(self, input_features):\n",
        "    code = self.encoder(input_features)\n",
        "    reconstructed = self.decoder(code)\n",
        "    return reconstructed"
      ],
      "execution_count": 5,
      "outputs": []
    },
    {
      "cell_type": "code",
      "metadata": {
        "id": "CV5kMBExyjYF",
        "colab_type": "code",
        "colab": {}
      },
      "source": [
        "def loss(model, original):\n",
        "  #reconstruction_error = tf.reduce_mean(tf.square(tf.subtract(model(original), original)))\n",
        "  ae_loss = tf.losses.BinaryCrossentropy(from_logits=True)\n",
        "  reconstruction_error = ae_loss(original, model(original))\n",
        "  return reconstruction_error"
      ],
      "execution_count": 6,
      "outputs": []
    },
    {
      "cell_type": "code",
      "metadata": {
        "id": "YtKEEqDHynbF",
        "colab_type": "code",
        "colab": {}
      },
      "source": [
        "def train(loss, model, opt, original):\n",
        "  with tf.GradientTape() as tape:\n",
        "    gradients = tape.gradient(loss(model, original), model.trainable_variables)\n",
        "    gradient_variables = zip(gradients, model.trainable_variables)\n",
        "    opt.apply_gradients(gradient_variables)"
      ],
      "execution_count": 7,
      "outputs": []
    },
    {
      "cell_type": "code",
      "metadata": {
        "id": "ZT16FEXKyq1b",
        "colab_type": "code",
        "colab": {
          "base_uri": "https://localhost:8080/",
          "height": 323
        },
        "outputId": "c684e3c7-3609-4f17-ac0e-cf04ae7a58a9"
      },
      "source": [
        "batch_size = 128\n",
        "epochs = 10\n",
        "conv=False\n",
        "\n",
        "autoencoder = Autoencoder(intermediate_dim=32, original_dim=784, convolution_layer=conv) #784\n",
        "opt = tf.optimizers.Adam(learning_rate=0.001)\n",
        "\n",
        "(training_features, _), (test_features, _) = tf.keras.datasets.fashion_mnist.load_data()  #cifar10.load_data()\n",
        "\n",
        "training_features = training_features / np.max(training_features)\n",
        "\n",
        "training_features = training_features.reshape(training_features.shape[0],\n",
        "                                          training_features.shape[1] * training_features.shape[2])\n",
        "training_features = training_features.astype('float32')\n",
        "\n",
        "test_features = test_features / np.max(test_features)\n",
        "\n",
        "test_features = test_features.reshape(test_features.shape[0],\n",
        "                                     test_features.shape[1] * test_features.shape[2])\n",
        "test_features = test_features.astype('float32')\n",
        "\n",
        "training_dataset = tf.data.Dataset.from_tensor_slices(training_features)\n",
        "training_dataset = training_dataset.shuffle(training_features.shape[0])\n",
        "training_dataset = training_dataset.batch(batch_size)\n",
        "\n",
        "#training_dataset = training_dataset.prefetch(batch_size * 4)\n",
        "\n",
        "for epoch in range(epochs):\n",
        "  for step, batch_features in enumerate(training_dataset):\n",
        "    train(loss, autoencoder, opt, batch_features)\n",
        "    loss_values = loss(autoencoder, batch_features)\n",
        "\n",
        "  #if not step % 10:\n",
        "  print(epoch, loss_values)\n"
      ],
      "execution_count": 8,
      "outputs": [
        {
          "output_type": "stream",
          "text": [
            "Downloading data from https://storage.googleapis.com/tensorflow/tf-keras-datasets/train-labels-idx1-ubyte.gz\n",
            "32768/29515 [=================================] - 0s 0us/step\n",
            "Downloading data from https://storage.googleapis.com/tensorflow/tf-keras-datasets/train-images-idx3-ubyte.gz\n",
            "26427392/26421880 [==============================] - 0s 0us/step\n",
            "Downloading data from https://storage.googleapis.com/tensorflow/tf-keras-datasets/t10k-labels-idx1-ubyte.gz\n",
            "8192/5148 [===============================================] - 0s 0us/step\n",
            "Downloading data from https://storage.googleapis.com/tensorflow/tf-keras-datasets/t10k-images-idx3-ubyte.gz\n",
            "4423680/4422102 [==============================] - 0s 0us/step\n",
            "0 tf.Tensor(0.69019383, shape=(), dtype=float32)\n",
            "1 tf.Tensor(0.65254617, shape=(), dtype=float32)\n",
            "2 tf.Tensor(0.6550832, shape=(), dtype=float32)\n",
            "3 tf.Tensor(0.65204865, shape=(), dtype=float32)\n",
            "4 tf.Tensor(0.65039724, shape=(), dtype=float32)\n",
            "5 tf.Tensor(0.64390767, shape=(), dtype=float32)\n",
            "6 tf.Tensor(0.6436811, shape=(), dtype=float32)\n",
            "7 tf.Tensor(0.65316576, shape=(), dtype=float32)\n",
            "8 tf.Tensor(0.65576315, shape=(), dtype=float32)\n",
            "9 tf.Tensor(0.6429906, shape=(), dtype=float32)\n"
          ],
          "name": "stdout"
        }
      ]
    },
    {
      "cell_type": "code",
      "metadata": {
        "id": "Y9t3DT8dztTJ",
        "colab_type": "code",
        "colab": {
          "base_uri": "https://localhost:8080/",
          "height": 282
        },
        "outputId": "60f6bef5-58b9-4253-e75c-8862b4b07a5c"
      },
      "source": [
        "autoencoder_test = autoencoder(input_features=test_features)\n",
        "\n",
        "original_img = tf.reshape(test_features, (test_features.shape[0], 28, 28))#28, 28))\n",
        "\n",
        "reconstructed_img = tf.reshape(autoencoder_test, (autoencoder_test.shape[0], 28, 28))# 28, 28))\n",
        "\n",
        "plt.imshow(original_img[10], cmap=\"Greys_r\")"
      ],
      "execution_count": 11,
      "outputs": [
        {
          "output_type": "execute_result",
          "data": {
            "text/plain": [
              "<matplotlib.image.AxesImage at 0x7f5d71147cf8>"
            ]
          },
          "metadata": {
            "tags": []
          },
          "execution_count": 11
        },
        {
          "output_type": "display_data",
          "data": {
            "image/png": "[encoded data removed]",
            "text/plain": [
              "<Figure size 432x288 with 1 Axes>"
            ]
          },
          "metadata": {
            "tags": [],
            "needs_background": "light"
          }
        }
      ]
    },
    {
      "cell_type": "code",
      "metadata": {
        "id": "hYLMwjGz0XEb",
        "colab_type": "code",
        "colab": {
          "base_uri": "https://localhost:8080/",
          "height": 282
        },
        "outputId": "cc5ee5f5-1113-4b9f-fdf1-8b320d426e77"
      },
      "source": [
        "plt.imshow(reconstructed_img[10], cmap=\"Greys_r\")"
      ],
      "execution_count": 12,
      "outputs": [
        {
          "output_type": "execute_result",
          "data": {
            "text/plain": [
              "<matplotlib.image.AxesImage at 0x7f5d6968e208>"
            ]
          },
          "metadata": {
            "tags": []
          },
          "execution_count": 12
        },
        {
          "output_type": "display_data",
          "data": {
            "image/png": "[encoded data removed]",
            "text/plain": [
              "<Figure size 432x288 with 1 Axes>"
            ]
          },
          "metadata": {
            "tags": [],
            "needs_background": "light"
          }
        }
      ]
    },
    {
      "cell_type": "code",
      "metadata": {
        "id": "arVPNbh5AZi2",
        "colab_type": "code",
        "colab": {
          "base_uri": "https://localhost:8080/",
          "height": 187
        },
        "outputId": "5acf49ad-ea7f-4d71-dbd6-c3a8e40177fa"
      },
      "source": [
        "batch_size = 128\n",
        "epochs = 10\n",
        "conv=True\n",
        "\n",
        "autoencoder = Autoencoder(intermediate_dim=32, original_dim=784, convolution_layer=conv) #784\n",
        "opt = tf.optimizers.Adam(learning_rate=0.001)\n",
        "\n",
        "(training_features, _), (test_features, _) = tf.keras.datasets.fashion_mnist.load_data()\n",
        "\n",
        "training_features = training_features / np.max(training_features)\n",
        "\n",
        "training_features = training_features.reshape(training_features.shape[0],\n",
        "                                          training_features.shape[1], training_features.shape[2], 1)\n",
        "training_features = training_features.astype('float32')\n",
        "\n",
        "test_features = test_features / np.max(test_features)\n",
        "\n",
        "test_features = test_features.reshape(test_features.shape[0],\n",
        "                                     test_features.shape[1], test_features.shape[2], 1)\n",
        "test_features = test_features.astype('float32')\n",
        "\n",
        "training_dataset = tf.data.Dataset.from_tensor_slices(training_features)\n",
        "training_dataset = training_dataset.batch(batch_size)\n",
        "training_dataset = training_dataset.shuffle(training_features.shape[0])\n",
        "#training_dataset = training_dataset.prefetch(batch_size * 4)\n",
        "\n",
        "for epoch in range(epochs):\n",
        "  for step, batch_features in enumerate(training_dataset):\n",
        "    train(loss, autoencoder, opt, batch_features)\n",
        "    loss_values = loss(autoencoder, batch_features)\n",
        "\n",
        "  #if not step % 10:\n",
        "  print(epoch, loss_values)"
      ],
      "execution_count": 13,
      "outputs": [
        {
          "output_type": "stream",
          "text": [
            "0 tf.Tensor(0.2866962, shape=(), dtype=float32)\n",
            "1 tf.Tensor(0.27820945, shape=(), dtype=float32)\n",
            "2 tf.Tensor(0.26705387, shape=(), dtype=float32)\n",
            "3 tf.Tensor(0.2678815, shape=(), dtype=float32)\n",
            "4 tf.Tensor(0.2543922, shape=(), dtype=float32)\n",
            "5 tf.Tensor(0.26127696, shape=(), dtype=float32)\n",
            "6 tf.Tensor(0.2648204, shape=(), dtype=float32)\n",
            "7 tf.Tensor(0.26102138, shape=(), dtype=float32)\n",
            "8 tf.Tensor(0.25541118, shape=(), dtype=float32)\n",
            "9 tf.Tensor(0.25310615, shape=(), dtype=float32)\n"
          ],
          "name": "stdout"
        }
      ]
    },
    {
      "cell_type": "code",
      "metadata": {
        "id": "cNQyLR94Ay8y",
        "colab_type": "code",
        "colab": {
          "base_uri": "https://localhost:8080/",
          "height": 282
        },
        "outputId": "61f866ed-749f-4233-cd1f-1b5895a19c24"
      },
      "source": [
        "autoencoder_test = autoencoder(input_features=test_features)\n",
        "\n",
        "original_img = tf.reshape(test_features, (test_features.shape[0], 28, 28))\n",
        "\n",
        "reconstructed_img = tf.reshape(autoencoder_test, (autoencoder_test.shape[0], 28, 28))\n",
        "\n",
        "plt.imshow(original_img[20], cmap=\"Greys_r\")"
      ],
      "execution_count": 14,
      "outputs": [
        {
          "output_type": "execute_result",
          "data": {
            "text/plain": [
              "<matplotlib.image.AxesImage at 0x7f5d68fc5ef0>"
            ]
          },
          "metadata": {
            "tags": []
          },
          "execution_count": 14
        },
        {
          "output_type": "display_data",
          "data": {
            "image/png": "[encoded data removed]",
            "text/plain": [
              "<Figure size 432x288 with 1 Axes>"
            ]
          },
          "metadata": {
            "tags": [],
            "needs_background": "light"
          }
        }
      ]
    },
    {
      "cell_type": "code",
      "metadata": {
        "id": "aR93TcmmIJqV",
        "colab_type": "code",
        "colab": {
          "base_uri": "https://localhost:8080/",
          "height": 282
        },
        "outputId": "bf3a0199-6c6a-4c37-d6f9-3fd540c0fb04"
      },
      "source": [
        "plt.imshow(reconstructed_img[20], cmap=\"Greys_r\")"
      ],
      "execution_count": 15,
      "outputs": [
        {
          "output_type": "execute_result",
          "data": {
            "text/plain": [
              "<matplotlib.image.AxesImage at 0x7f5d68f27978>"
            ]
          },
          "metadata": {
            "tags": []
          },
          "execution_count": 15
        },
        {
          "output_type": "display_data",
          "data": {
            "image/png": "[encoded data removed]",
            "text/plain": [
              "<Figure size 432x288 with 1 Axes>"
            ]
          },
          "metadata": {
            "tags": [],
            "needs_background": "light"
          }
        }
      ]
    },
    {
      "cell_type": "code",
      "metadata": {
        "id": "lOzgxN9JIPIu",
        "colab_type": "code",
        "colab": {}
      },
      "source": [
        ""
      ],
      "execution_count": null,
      "outputs": []
    }
  ]
}